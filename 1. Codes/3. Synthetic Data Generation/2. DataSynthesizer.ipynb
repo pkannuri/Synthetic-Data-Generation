{
 "cells": [
  {
   "cell_type": "markdown",
   "metadata": {
    "id": "RKPhXgb3XSfX"
   },
   "source": [
    "# DataSynthesizer Usage (correlated attribute mode)\n",
    "\n"
   ]
  },
  {
   "cell_type": "code",
   "execution_count": null,
   "metadata": {
    "colab": {
     "base_uri": "https://localhost:8080/"
    },
    "id": "6gQ99sCqXf-X",
    "outputId": "035ce34e-4f39-441a-f8c8-ba349b5ffa9b"
   },
   "outputs": [
    {
     "name": "stdout",
     "output_type": "stream",
     "text": [
      "Collecting DataSynthesizer\n",
      "  Downloading DataSynthesizer-0.1.13-py2.py3-none-any.whl (24 kB)\n",
      "Requirement already satisfied: numpy>=1.18.5 in /usr/local/lib/python3.10/dist-packages (from DataSynthesizer) (1.25.2)\n",
      "Requirement already satisfied: pandas>=1.0.5 in /usr/local/lib/python3.10/dist-packages (from DataSynthesizer) (1.5.3)\n",
      "Requirement already satisfied: scikit-learn>=0.23.1 in /usr/local/lib/python3.10/dist-packages (from DataSynthesizer) (1.2.2)\n",
      "Requirement already satisfied: matplotlib>=3.2.2 in /usr/local/lib/python3.10/dist-packages (from DataSynthesizer) (3.7.1)\n",
      "Requirement already satisfied: seaborn>=0.10.1 in /usr/local/lib/python3.10/dist-packages (from DataSynthesizer) (0.13.1)\n",
      "Requirement already satisfied: python-dateutil>=2.8.1 in /usr/local/lib/python3.10/dist-packages (from DataSynthesizer) (2.8.2)\n",
      "Requirement already satisfied: contourpy>=1.0.1 in /usr/local/lib/python3.10/dist-packages (from matplotlib>=3.2.2->DataSynthesizer) (1.2.0)\n",
      "Requirement already satisfied: cycler>=0.10 in /usr/local/lib/python3.10/dist-packages (from matplotlib>=3.2.2->DataSynthesizer) (0.12.1)\n",
      "Requirement already satisfied: fonttools>=4.22.0 in /usr/local/lib/python3.10/dist-packages (from matplotlib>=3.2.2->DataSynthesizer) (4.50.0)\n",
      "Requirement already satisfied: kiwisolver>=1.0.1 in /usr/local/lib/python3.10/dist-packages (from matplotlib>=3.2.2->DataSynthesizer) (1.4.5)\n",
      "Requirement already satisfied: packaging>=20.0 in /usr/local/lib/python3.10/dist-packages (from matplotlib>=3.2.2->DataSynthesizer) (24.0)\n",
      "Requirement already satisfied: pillow>=6.2.0 in /usr/local/lib/python3.10/dist-packages (from matplotlib>=3.2.2->DataSynthesizer) (9.4.0)\n",
      "Requirement already satisfied: pyparsing>=2.3.1 in /usr/local/lib/python3.10/dist-packages (from matplotlib>=3.2.2->DataSynthesizer) (3.1.2)\n",
      "Requirement already satisfied: pytz>=2020.1 in /usr/local/lib/python3.10/dist-packages (from pandas>=1.0.5->DataSynthesizer) (2023.4)\n",
      "Requirement already satisfied: six>=1.5 in /usr/local/lib/python3.10/dist-packages (from python-dateutil>=2.8.1->DataSynthesizer) (1.16.0)\n",
      "Requirement already satisfied: scipy>=1.3.2 in /usr/local/lib/python3.10/dist-packages (from scikit-learn>=0.23.1->DataSynthesizer) (1.11.4)\n",
      "Requirement already satisfied: joblib>=1.1.1 in /usr/local/lib/python3.10/dist-packages (from scikit-learn>=0.23.1->DataSynthesizer) (1.3.2)\n",
      "Requirement already satisfied: threadpoolctl>=2.0.0 in /usr/local/lib/python3.10/dist-packages (from scikit-learn>=0.23.1->DataSynthesizer) (3.3.0)\n",
      "Installing collected packages: DataSynthesizer\n",
      "Successfully installed DataSynthesizer-0.1.13\n"
     ]
    }
   ],
   "source": [
    "!pip install DataSynthesizer"
   ]
  },
  {
   "cell_type": "code",
   "execution_count": null,
   "metadata": {
    "id": "_ivdQcbdXSfY"
   },
   "outputs": [],
   "source": [
    "from DataSynthesizer.DataDescriber import DataDescriber\n",
    "from DataSynthesizer.DataGenerator import DataGenerator\n",
    "from DataSynthesizer.ModelInspector import ModelInspector\n",
    "from DataSynthesizer.lib.utils import read_json_file, display_bayesian_network\n",
    "\n",
    "import pandas as pd"
   ]
  },
  {
   "cell_type": "markdown",
   "metadata": {
    "id": "JALoqkMNXSfZ"
   },
   "source": [
    "### Step 2 user-defined parameteres"
   ]
  },
  {
   "cell_type": "code",
   "execution_count": null,
   "metadata": {
    "id": "3rDuOUAsXSfZ"
   },
   "outputs": [],
   "source": [
    "# input dataset\n",
    "input_data = '/content/real_train.csv'\n",
    "# location of two output files\n",
    "mode = 'correlated_attribute_mode'\n",
    "#description_file = f'./out/{mode}/description.json'\n",
    "synthetic_data = f'{mode}/sythetic_data.csv'"
   ]
  },
  {
   "cell_type": "code",
   "execution_count": null,
   "metadata": {
    "id": "ffdomhdKXSfZ"
   },
   "outputs": [],
   "source": [
    "# An attribute is categorical if its domain size is less than this threshold.\n",
    "# Here modify the threshold to adapt to the domain size of \"education\" (which is 14 in input dataset).\n",
    "threshold_value = 3\n",
    "\n",
    "# specify categorical attributes\n",
    "categorical_attributes = {\n",
    " 'careplan_within_24': True,\n",
    " 'Pneumococcal conjugate PCV 13': True,\n",
    " 'MMR': True,\n",
    " 'DTaP': True,\n",
    " 'varicella': True,\n",
    " 'Acetaminophen 160 MG': True,\n",
    " 'Ibuprofen 200 MG Oral Tablet': True,\n",
    " 'Naproxen sodium 220 MG Oral Tablet': True,\n",
    " 'Dextromethorphan Hydrobromide 1 MG/ML': True,\n",
    " 'Amoxicillin 250 MG / Clavulanate 125 MG [Augmentin]': True,\n",
    " 'Documentation of current medications': True,\n",
    " 'Measurement of respiratory function (procedure)': True,\n",
    " 'Spirometry (procedure)': True,\n",
    " 'Throat culture (procedure) ': True,\n",
    " 'Sputum examination (procedure)': True,\n",
    " 'Viral_sinusitis_present': True,\n",
    " 'MARITAL_M': True,\n",
    " 'MARITAL_S': True,\n",
    " 'RACE_asian': True,\n",
    " 'RACE_black': True,\n",
    " 'RACE_hispanic': True,\n",
    " 'RACE_native': True,\n",
    " 'RACE_white': True,\n",
    " 'ETHNICITY_african': True,\n",
    " 'ETHNICITY_american': True,\n",
    " 'ETHNICITY_american_indian': True,\n",
    " 'ETHNICITY_asian_indian': True,\n",
    " 'ETHNICITY_central_american': True,\n",
    " 'ETHNICITY_chinese': True,\n",
    " 'ETHNICITY_dominican': True,\n",
    " 'ETHNICITY_english': True,\n",
    " 'ETHNICITY_french': True,\n",
    " 'ETHNICITY_french_canadian': True,\n",
    " 'ETHNICITY_german': True,\n",
    " 'ETHNICITY_irish': True,\n",
    " 'ETHNICITY_italian': True,\n",
    " 'ETHNICITY_mexican': True,\n",
    " 'ETHNICITY_polish': True,\n",
    " 'ETHNICITY_portuguese': True,\n",
    " 'ETHNICITY_puerto_rican': True,\n",
    " 'ETHNICITY_russian': True,\n",
    " 'ETHNICITY_scottish': True,\n",
    " 'ETHNICITY_swedish': True,\n",
    " 'ETHNICITY_west_indian': True,\n",
    " 'GENDER_F': True,\n",
    " 'GENDER_M': True,\n",
    " 'encounter_type_emergency room visit': True,\n",
    " 'encounter_type_inpatient': True,\n",
    " 'encounter_type_outpatient': True\n",
    "}\n",
    "\n",
    "\n",
    "# specify which attributes are candidate keys of input dataset.\n",
    "#candidate_keys = {'ssn': True}\n",
    "\n",
    "# A parameter in Differential Privacy. It roughly means that removing a row in the input dataset will not\n",
    "# change the probability of getting the same output more than a multiplicative difference of exp(epsilon).\n",
    "# Increase epsilon value to reduce the injected noises. Set epsilon=0 to turn off differential privacy.\n",
    "epsilon = 0\n",
    "\n",
    "# The maximum number of parents in Bayesian network, i.e., the maximum number of incoming edges.\n",
    "degree_of_bayesian_network = 5\n",
    "\n",
    "# Number of tuples generated in synthetic dataset.\n",
    "num_tuples_to_generate = 60593 # Here 32561 is the same as input dataset, but it can be set to another number."
   ]
  },
  {
   "cell_type": "markdown",
   "metadata": {
    "id": "cLwDCMNeXSfa"
   },
   "source": [
    "### Step 3 DataDescriber\n",
    "\n",
    "1. Instantiate a DataDescriber.\n",
    "2. Compute the statistics of the dataset.\n",
    "3. Save dataset description to a file on local machine."
   ]
  },
  {
   "cell_type": "code",
   "execution_count": null,
   "metadata": {
    "colab": {
     "background_save": true,
     "base_uri": "https://localhost:8080/"
    },
    "id": "FZ86w-NeXSfa",
    "outputId": "880d1889-8aa5-4ca3-eb67-7a3a41477220"
   },
   "outputs": [
    {
     "name": "stdout",
     "output_type": "stream",
     "text": [
      "================ Constructing Bayesian Network (BN) ================\n",
      "Adding ROOT ETHNICITY_french_canadian\n",
      "Adding attribute RACE_white\n",
      "Adding attribute RACE_hispanic\n",
      "Adding attribute ETHNICITY_puerto_rican\n",
      "Adding attribute RACE_black\n",
      "Adding attribute RACE_asian\n",
      "Adding attribute ETHNICITY_chinese\n",
      "Adding attribute ETHNICITY_asian_indian\n",
      "Adding attribute ETHNICITY_dominican\n"
     ]
    }
   ],
   "source": [
    "describer = DataDescriber(category_threshold=threshold_value)\n",
    "describer.describe_dataset_in_correlated_attribute_mode(dataset_file=input_data,\n",
    "                                                        epsilon=epsilon,\n",
    "                                                        k=degree_of_bayesian_network,\n",
    "                                                        attribute_to_is_categorical=categorical_attributes,\n",
    "                                                        )\n",
    "describer.save_dataset_description_to_file(description_file)"
   ]
  },
  {
   "cell_type": "code",
   "execution_count": null,
   "metadata": {
    "id": "f6ZUoWawXSfa",
    "outputId": "e198497c-81d0-4e5b-8fc5-a1907433046a"
   },
   "outputs": [
    {
     "name": "stdout",
     "output_type": "stream",
     "text": [
      "Constructed Bayesian network:\n",
      "    marital-status has parents ['relationship'].\n",
      "    age            has parents ['marital-status', 'relationship'].\n",
      "    sex            has parents ['marital-status', 'relationship'].\n",
      "    education      has parents ['sex', 'age'].\n",
      "    income         has parents ['sex', 'age'].\n"
     ]
    }
   ],
   "source": [
    "display_bayesian_network(describer.bayesian_network)"
   ]
  },
  {
   "cell_type": "markdown",
   "metadata": {
    "id": "aG3ZWs93XSfa"
   },
   "source": [
    "### Step 4 generate synthetic dataset\n",
    "\n",
    "1. Instantiate a DataGenerator.\n",
    "2. Generate a synthetic dataset.\n",
    "3. Save it to local machine."
   ]
  },
  {
   "cell_type": "code",
   "execution_count": null,
   "metadata": {
    "id": "epNPygvEXSfb"
   },
   "outputs": [],
   "source": [
    "generator = DataGenerator()\n",
    "generator.generate_dataset_in_correlated_attribute_mode(num_tuples_to_generate, description_file)\n",
    "generator.save_synthetic_data(synthetic_data)"
   ]
  },
  {
   "cell_type": "markdown",
   "metadata": {
    "id": "krUXNglOXSfb"
   },
   "source": [
    "### Step 5 compare the statistics of input and sythetic data (optional)\n",
    "\n",
    "The synthetic data is already saved in a file by step 4. The ModelInspector is for a quick test on the similarity between input and synthetic datasets.\n",
    "\n",
    "#### 5.1 instantiate a ModelInspector.\n",
    "\n",
    "It needs input dataset, synthetic dataset, and attribute description."
   ]
  },
  {
   "cell_type": "code",
   "execution_count": null,
   "metadata": {
    "id": "o_UIA2jpXSfb"
   },
   "outputs": [],
   "source": [
    "# Read both datasets using Pandas.\n",
    "input_df = pd.read_csv(input_data, skipinitialspace=True)\n",
    "synthetic_df = pd.read_csv(synthetic_data)\n",
    "# Read attribute description from the dataset description file.\n",
    "attribute_description = read_json_file(description_file)['attribute_description']\n",
    "\n",
    "inspector = ModelInspector(input_df, synthetic_df, attribute_description)"
   ]
  },
  {
   "cell_type": "markdown",
   "metadata": {
    "id": "fJxTljsOXSfb"
   },
   "source": [
    "#### 5.2 compare histograms between input and synthetic datasets."
   ]
  },
  {
   "cell_type": "code",
   "execution_count": null,
   "metadata": {
    "id": "cjflP2bBXSfb"
   },
   "outputs": [],
   "source": [
    "for attribute in synthetic_df.columns:\n",
    "    inspector.compare_histograms(attribute)"
   ]
  },
  {
   "cell_type": "markdown",
   "metadata": {
    "id": "-8QuJ1HnXSfb"
   },
   "source": [
    "#### 5.3 compare pairwise mutual information"
   ]
  },
  {
   "cell_type": "code",
   "execution_count": null,
   "metadata": {
    "id": "KQxTL-gtXSfb"
   },
   "outputs": [],
   "source": [
    "inspector.mutual_information_heatmap()"
   ]
  }
 ],
 "metadata": {
  "colab": {
   "provenance": []
  },
  "kernelspec": {
   "display_name": "Python 3 (ipykernel)",
   "language": "python",
   "name": "python3"
  },
  "language_info": {
   "codemirror_mode": {
    "name": "ipython",
    "version": 3
   },
   "file_extension": ".py",
   "mimetype": "text/x-python",
   "name": "python",
   "nbconvert_exporter": "python",
   "pygments_lexer": "ipython3",
   "version": "3.11.8"
  }
 },
 "nbformat": 4,
 "nbformat_minor": 4
}
