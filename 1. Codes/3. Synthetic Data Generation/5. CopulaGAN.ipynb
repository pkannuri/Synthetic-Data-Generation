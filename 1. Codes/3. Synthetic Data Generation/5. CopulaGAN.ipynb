{
 "cells": [
  {
   "cell_type": "code",
   "execution_count": null,
   "id": "b3053937-ee4e-4df8-8ea5-faf374994010",
   "metadata": {},
   "outputs": [
    {
     "name": "stderr",
     "output_type": "stream",
     "text": [
      "/Users/kyu/anaconda3/lib/python3.11/site-packages/sdv/single_table/base.py:79: UserWarning: We strongly recommend saving the metadata using 'save_to_json' for replicability in future SDV versions.\n",
      "  warnings.warn(\n"
     ]
    }
   ],
   "source": [
    "import pandas as pd\n",
    "from sdv.single_table import CopulaGANSynthesizer\n",
    "from sdv.metadata import SingleTableMetadata\n",
    " \n",
    "# Load your real dataset\n",
    "real_data = pd.read_csv('real_train.csv')\n",
    " \n",
    "# Create an instance of SingleTableMetadata\n",
    "metadata = SingleTableMetadata()\n",
    " \n",
    "# Automatically detect metadata from your DataFrame\n",
    "metadata.detect_from_dataframe(real_data)\n",
    " \n",
    "# Initialize the CopulaGANSynthesizer with the detected metadata\n",
    "synthesizer = CopulaGANSynthesizer(metadata=metadata)\n",
    " \n",
    "# Fit the synthesizer on your real data\n",
    "synthesizer.fit(real_data)\n",
    " \n",
    "# Generate synthetic data\n",
    "synthetic_data = synthesizer.sample(num_rows=60591)\n",
    " \n",
    "# Assuming synthetic_data is your DataFrame containing the synthetic data\n",
    "synthetic_data.to_csv('synthetic_data.csv', index=False)"
   ]
  },
  {
   "cell_type": "code",
   "execution_count": null,
   "id": "3eedada1-f81f-4a18-b8f9-798a027596b1",
   "metadata": {},
   "outputs": [],
   "source": []
  }
 ],
 "metadata": {
  "kernelspec": {
   "display_name": "Python 3 (ipykernel)",
   "language": "python",
   "name": "python3"
  },
  "language_info": {
   "codemirror_mode": {
    "name": "ipython",
    "version": 3
   },
   "file_extension": ".py",
   "mimetype": "text/x-python",
   "name": "python",
   "nbconvert_exporter": "python",
   "pygments_lexer": "ipython3",
   "version": "3.11.8"
  }
 },
 "nbformat": 4,
 "nbformat_minor": 5
}
