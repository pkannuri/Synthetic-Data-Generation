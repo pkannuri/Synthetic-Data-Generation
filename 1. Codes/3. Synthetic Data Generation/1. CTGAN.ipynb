{
 "cells": [
  {
   "cell_type": "markdown",
   "metadata": {
    "id": "589K0DpXyu54"
   },
   "source": [
    "# **Synthetic Data Generation Using CTGAN**"
   ]
  },
  {
   "cell_type": "code",
   "execution_count": null,
   "metadata": {
    "id": "GoKGI4RH-v-F"
   },
   "outputs": [],
   "source": [
    "!pip install ctgan\n"
   ]
  },
  {
   "cell_type": "code",
   "execution_count": null,
   "metadata": {
    "id": "VniTdB7UljUd"
   },
   "outputs": [],
   "source": [
    "import pandas as pd\n",
    "from ctgan import CTGAN\n",
    "\n",
    "# Load your dataset\n",
    "df = pd.read_csv('/content/real_train.csv')\n",
    "\n",
    "# Define the list of continuous columns\n",
    "continuous_columns = [\n",
    "    'careplan_length', 'Diastolic Blood Pressure', 'Systolic Blood Pressure', 'Body Mass Index',\n",
    "    'Total Cholesterol', 'High Density Lipoprotein Cholesterol', 'Triglycerides',\n",
    "    'Low Density Lipoprotein Cholesterol', 'Glucose', 'Hemoglobin A1c/Hemoglobin.total in Blood',\n",
    "    'Sodium', 'Chloride', 'Potassium', 'Carbon Dioxide', 'Calcium', 'Urea Nitrogen',\n",
    "    'Estimated Glomerular Filtration Rate'\n",
    "]\n",
    "\n",
    "# Assuming all other columns are binary except the continuous ones\n",
    "all_cols = df.columns.tolist()\n",
    "binary_columns = [col for col in all_cols if col not in continuous_columns]\n",
    "\n",
    "# Initialize the CTGAN model with some tuned parameters\n",
    "ctgan = CTGAN(\n",
    "    epochs=500,                  # Increase the number of epochs\n",
    "    generator_lr=0.0001,         # Set the learning rate for the generator\n",
    "    discriminator_lr=0.0001,     # Set the learning rate for the discriminator\n",
    "    batch_size=700,              # Adjust the batch size\n",
    "    generator_dim=(256, 256),    # Adjust the size of the generator network\n",
    "    discriminator_dim=(256, 256) # Adjust the size of the discriminator network\n",
    ")\n",
    "\n",
    "ctgan.fit(df, discrete_columns=binary_columns)\n",
    "\n",
    "# Generate synthetic data\n",
    "synthetic_data = ctgan.sample(60592)\n",
    "\n",
    "# Optionally, save the synthetic dataset to a CSV file\n",
    "synthetic_data.to_csv('synthetic_CTGAN_real_train1.csv', index=False)\n",
    "\n",
    "print(\"Synthetic dataset generated and saved to synthetic_CTGAN_real_train.csv.\")\n"
   ]
  }
 ],
 "metadata": {
  "colab": {
   "provenance": []
  },
  "kernelspec": {
   "display_name": "Python 3 (ipykernel)",
   "language": "python",
   "name": "python3"
  },
  "language_info": {
   "codemirror_mode": {
    "name": "ipython",
    "version": 3
   },
   "file_extension": ".py",
   "mimetype": "text/x-python",
   "name": "python",
   "nbconvert_exporter": "python",
   "pygments_lexer": "ipython3",
   "version": "3.11.8"
  }
 },
 "nbformat": 4,
 "nbformat_minor": 4
}
