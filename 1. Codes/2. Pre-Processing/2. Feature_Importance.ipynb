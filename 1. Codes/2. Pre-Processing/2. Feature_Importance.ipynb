{
  "nbformat": 4,
  "nbformat_minor": 0,
  "metadata": {
    "colab": {
      "provenance": []
    },
    "kernelspec": {
      "name": "python3",
      "display_name": "Python 3"
    },
    "language_info": {
      "name": "python"
    }
  },
  "cells": [
    {
      "cell_type": "code",
      "execution_count": null,
      "metadata": {
        "id": "ChGVdl7wJ4R0",
        "colab": {
          "base_uri": "https://localhost:8080/"
        },
        "outputId": "2fc72ebf-6023-44ff-f49e-1c775b7ff617"
      },
      "outputs": [
        {
          "output_type": "stream",
          "name": "stdout",
          "text": [
            "Accuracy: 0.8006843455945253\n",
            "\n",
            "Feature Importance:\n",
            "                                              Feature  Importance\n",
            "11  Amoxicillin 250 MG / Clavulanate 125 MG [Augme...    0.654582\n",
            "0                                  careplan_within_24    0.215433\n",
            "1                                     careplan_length    0.040153\n",
            "66                           encounter_type_inpatient    0.012184\n",
            "65                encounter_type_emergency room visit    0.010689\n",
            "..                                                ...         ...\n",
            "40                                        RACE_native    0.000000\n",
            "38                                         RACE_black    0.000000\n",
            "37                                         RACE_asian    0.000000\n",
            "36                                          MARITAL_S    0.000000\n",
            "47                                  ETHNICITY_chinese    0.000000\n",
            "\n",
            "[68 rows x 2 columns]\n"
          ]
        }
      ],
      "source": [
        "import pandas as pd\n",
        "from sklearn.ensemble import GradientBoostingClassifier\n",
        "from sklearn.model_selection import train_test_split\n",
        "\n",
        "# Load your dataset\n",
        "data = pd.read_csv('/content/imputed_encoded_dataset.csv')  # Replace 'your_dataset.csv' with your dataset file path\n",
        "\n",
        "data = data.drop(columns=['Allergy to mould','House dust mite allergy','Dander (animal) allergy','Allergy to tree pollen','Allergy to grass pollen'])\n",
        "\n",
        "# Drop rows with missing values\n",
        "data.dropna(inplace=True)\n",
        "\n",
        "# Split dataset into features and target variable\n",
        "X = data.drop(['PATIENT', 'Viral_sinusitis_present'], axis=1)\n",
        "y = data['Viral_sinusitis_present']\n",
        "\n",
        "# Split dataset into training and testing sets\n",
        "X_train, X_test, y_train, y_test = train_test_split(X, y, test_size=0.2, random_state=42)\n",
        "\n",
        "# Initialize a Gradient Boosting Classifier\n",
        "gb_classifier = GradientBoostingClassifier(n_estimators=100, random_state=42)\n",
        "\n",
        "# Fit the classifier to the training data\n",
        "gb_classifier.fit(X_train, y_train)\n",
        "\n",
        "# Evaluate the model on the testing data\n",
        "accuracy = gb_classifier.score(X_test, y_test)\n",
        "print(\"Accuracy:\", accuracy)\n",
        "\n",
        "# Get feature importances\n",
        "feature_importances = gb_classifier.feature_importances_\n",
        "\n",
        "# Create a DataFrame to display feature importances\n",
        "feature_importance_df = pd.DataFrame({'Feature': X.columns, 'Importance': feature_importances})\n",
        "\n",
        "# Sort the DataFrame by importance in descending order\n",
        "feature_importance_df = feature_importance_df.sort_values(by='Importance', ascending=False)\n",
        "\n",
        "# Print the sorted DataFrame\n",
        "print(\"\\nFeature Importance:\")\n",
        "print(feature_importance_df)\n"
      ]
    }
  ]
}